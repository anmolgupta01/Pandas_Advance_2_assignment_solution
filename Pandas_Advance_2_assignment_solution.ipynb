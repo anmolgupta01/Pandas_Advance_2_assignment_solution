{
 "cells": [
  {
   "cell_type": "markdown",
   "id": "dbf67d6f",
   "metadata": {},
   "source": [
    "Q1. Write a code to print the data present in the second row of the dataframe, df."
   ]
  },
  {
   "cell_type": "code",
   "execution_count": 51,
   "id": "27116802",
   "metadata": {},
   "outputs": [],
   "source": [
    "import pandas as pd \n",
    "import logging\n",
    "logging.basicConfig(filename = \"Result.log\", level = logging.INFO)\n",
    "course_name = ['Data Science', 'Machine Learning', 'Big Data', 'Data Engineer'] \n",
    "duration =[2,3,6,4] \n",
    "df = pd.DataFrame(data = {'course_name' : course_name, 'duration' : duration})\n",
    "second_row_data = df.iloc[1] \n",
    "transposed_data = second_row_data.to_frame().T\n",
    "logging.info(transposed_data)"
   ]
  },
  {
   "cell_type": "markdown",
   "id": "035aaba7",
   "metadata": {},
   "source": [
    "Q2. What is the difference between the functions loc and iloc in pandas.DataFrame?"
   ]
  },
  {
   "cell_type": "markdown",
   "id": "7068fa0f",
   "metadata": {},
   "source": [
    "The functions loc and iloc are used to access and manipulate data in a DataFrame. They provide different ways to select data based on labels or integer-based positions, respectively.\n",
    "\n",
    "loc:\n",
    "The loc function is used for label-based indexing. It allows you to access rows and columns using their labels (row and column names) instead of numerical positions. The syntax for loc is df.loc[row_label, column_label].\n",
    "\n",
    "iloc:\n",
    "The iloc function is used for integer-based indexing. It allows you to access rows and columns using their integer positions (0-based indices) rather than their labels. The syntax for iloc is df.iloc[row_index, column_index]."
   ]
  },
  {
   "cell_type": "markdown",
   "id": "e9cefe68",
   "metadata": {},
   "source": [
    "Q3. Reindex the given dataframe using a variable, reindex = [3,0,1,2] and store it in the variable, new_df then find the output for both new_df.loc[2] and new_df.iloc[2]. \n",
    "\n",
    "Did you observe any difference in both the outputs? If so then explain it. \n",
    "Consider the below code to answer further questions: \n",
    "\n",
    "import pandas as pd\n",
    "\n",
    "import numpy as np \n",
    "\n",
    "columns = ['column_1', 'column_2', 'column_3', 'column_4', 'column_5', 'column_6'] \n",
    "\n",
    "indices = [1,2,3,4,5,6] \n",
    "\n",
    "#Creating a dataframe: \n",
    "\n",
    "df1 = pd.DataFrame(np.random.rand(6,6), columns = columns, index = indices)"
   ]
  },
  {
   "cell_type": "code",
   "execution_count": 52,
   "id": "b07e007a",
   "metadata": {},
   "outputs": [],
   "source": [
    "import pandas as pd\n",
    "import numpy as np\n",
    "import logging\n",
    "logging.basicConfig(filename = \"Result.log\", level = logging.INFO)\n",
    "columns = ['column_1', 'column_2', 'column_3', 'column_4', 'column_5', 'column_6']\n",
    "indices = [1,2,3,4,5,6]\n",
    "#Creating a dataframe:\n",
    "df1 = pd.DataFrame(np.random.rand(6,6), columns = columns, index = indices)\n",
    "reindex = [3, 0, 1, 2]\n",
    "new_df = df1.reindex(reindex)\n",
    "loc_output = new_df.loc[2]\n",
    "iloc_output = new_df.iloc[2]\n",
    "\n",
    "logging.info(f\"Output for new_df.loc[2]: {loc_output}\")\n",
    "\n",
    "logging.info(f\"\\nOutput for new_df.iloc[2]: {iloc_output}\")\n",
    "\n"
   ]
  },
  {
   "cell_type": "markdown",
   "id": "c38a6086",
   "metadata": {},
   "source": [
    "new_df.loc[2]:\n",
    "\n",
    "This will return the row of the DataFrame where the index label is 2. Since we've reindexed the DataFrame using [3, 0, 1, 2], the new index label 2 corresponds to the original row with index label 1. So, new_df.loc[2] will return the data in the row where the original index label was 1.\n",
    "\n",
    "new_df.iloc[2]:\n",
    "\n",
    "This will return the row of the DataFrame based on the integer position 2. In this case, it refers to the third row in the DataFrame, which corresponds to the original row with index label 3 (after reindexing). So, new_df.iloc[2] will return the data in the row with the original index label 3."
   ]
  },
  {
   "cell_type": "markdown",
   "id": "5128193c",
   "metadata": {},
   "source": [
    "Q4. Write a code to find the following statistical measurements for the above dataframe df1: \n",
    "\n",
    "(i) mean of each and every column present in the dataframe.\n",
    "\n",
    "(ii) standard deviation of column, ‘column_2’"
   ]
  },
  {
   "cell_type": "code",
   "execution_count": 53,
   "id": "9e7bb33b",
   "metadata": {},
   "outputs": [],
   "source": [
    "import pandas as pd\n",
    "import numpy as np\n",
    "import logging\n",
    "logging.basicConfig(filename = \"Result.log\", level = logging.INFO)\n",
    "columns = ['column_1', 'column_2', 'column_3', 'column_4', 'column_5', 'column_6']\n",
    "indices = [1,2,3,4,5,6]\n",
    "#Creating a dataframe:\n",
    "df1 = pd.DataFrame(np.random.rand(6,6), columns = columns, index = indices)\n",
    "\n",
    "for columns in columns:\n",
    "    logging.info(f\"mean of {columns} is {df1[columns].mean()}\")\n",
    "\n",
    "logging.info((f\"standard deviation of {columns} is {df1[columns].std()}\"))"
   ]
  },
  {
   "cell_type": "markdown",
   "id": "573f6f76",
   "metadata": {},
   "source": [
    "Q5. Replace the data present in the second row of column, ‘column_2’ by a string variable then find the mean of column, column_2. If you are getting errors in executing it then explain why. \n",
    "\n",
    "[Hint: To replace the data use df1.loc[ ] and equate this to string data of your choice.]"
   ]
  },
  {
   "cell_type": "code",
   "execution_count": 59,
   "id": "2bf6ce50",
   "metadata": {},
   "outputs": [],
   "source": [
    "import pandas as pd\n",
    "import numpy as np\n",
    "import logging\n",
    "logging.basicConfig(filename = \"Result.log\", level = logging.ERROR)\n",
    "columns = ['column_1', 'column_2', 'column_3', 'column_4', 'column_5', 'column_6']\n",
    "indices = [1,2,3,4,5,6]\n",
    "#Creating a dataframe:\n",
    "df1 = pd.DataFrame(np.random.rand(6,6), columns = columns, index = indices)\n",
    "replacement_string = \"Replaced\"\n",
    "df1.loc[2, 'column_2'] = replacement_string\n",
    "\n",
    "# Calculate the mean of 'column_2'\n",
    "try:\n",
    "    column_2_mean = df1['column_2'].mean()\n",
    "    logging.error(f\"Mean of column 'column_2':{column_2_mean}\")\n",
    "except TypeError as e:\n",
    "    logging.error(f\"Error:{e}\")\n",
    "\n",
    "\n",
    "\n",
    "\n",
    "\n"
   ]
  },
  {
   "cell_type": "markdown",
   "id": "33bb42b7",
   "metadata": {},
   "source": [
    "Q6. What do you understand about the windows function in pandas and list the types of windows functions?"
   ]
  },
  {
   "cell_type": "markdown",
   "id": "fa6672da",
   "metadata": {},
   "source": [
    "A window function (also known as a windowing or rolling function) is a powerful feature that allows you to perform calculations on a subset of data within a specified window or range. These functions are particularly useful for performing various types of data analysis and transformations, especially in time series data or other sequential data structures.\n",
    "\n",
    "Window functions operate by creating a moving window over the data and applying a specified aggregation or transformation function within that window. The window can be defined based on various criteria, such as a fixed-size window, a time-based window, or a window that's centered around each data point.\n",
    "\n",
    "There are several types of window functions available in pandas:\n",
    "\n",
    "Rolling Windows: These functions create a window of a fixed size that moves through the data. Common rolling window functions include:\n",
    "\n",
    ".rolling().mean(): Calculates the moving average.\n",
    "\n",
    ".rolling().sum(): Calculates the moving sum.\n",
    "\n",
    ".rolling().std(): Calculates the moving standard deviation.\n",
    "\n",
    ".rolling().min(): Calculates the moving minimum.\n",
    "\n",
    ".rolling().max(): Calculates the moving maximum.\n",
    "\n",
    "Expanding Windows: These functions create a window that expands over time, incorporating all data points up to the current point. Common expanding window functions include:\n",
    "\n",
    ".expanding().mean(): Calculates the cumulative mean.\n",
    "\n",
    ".expanding().sum(): Calculates the cumulative sum.\n",
    "\n",
    "Exponential Moving Windows: These functions apply exponential decay to the data, giving more weight to recent data points. Common exponential moving window functions include:\n",
    "\n",
    ".ewm().mean(): Calculates the exponential moving average.\n",
    "\n",
    ".ewm().std(): Calculates the exponential moving standard deviation.\n",
    "\n",
    "Window Aggregations: These functions allow you to aggregate data within a fixed-size window without creating a rolling or expanding window. Common window aggregation functions include:\n",
    "\n",
    ".window().mean(): Calculates the mean within a fixed-size window.\n",
    "\n",
    ".window().sum(): Calculates the sum within a fixed-size window."
   ]
  },
  {
   "cell_type": "markdown",
   "id": "2b182fa3",
   "metadata": {},
   "source": [
    "Q7. Write a code to print only the current month and year at the time of answering this question.\n",
    "[Hint: Use pandas.datetime function]"
   ]
  },
  {
   "cell_type": "code",
   "execution_count": 60,
   "id": "161ef7a6",
   "metadata": {},
   "outputs": [],
   "source": [
    "import pandas as pd\n",
    "import logging\n",
    "logging.basicConfig(filename = \"Result.log\", level = logging.INFO)\n",
    "\n",
    "# Get the current date and time\n",
    "current_datetime = pd.Timestamp.now()\n",
    "\n",
    "# Extract the month and year from the current date\n",
    "current_month = current_datetime.month\n",
    "current_year = current_datetime.year\n",
    "\n",
    "# Print the current month and year\n",
    "logging.info(f\"Current Month: {current_month}\")\n",
    "logging.info(f\"Current Year: {current_year}\")\n"
   ]
  },
  {
   "cell_type": "markdown",
   "id": "0e64bc2b",
   "metadata": {},
   "source": [
    "Q8. Write a Python program that takes in two dates as input (in the format YYYY-MM-DD) and calculates the difference between them in days, hours, and minutes using Pandas time delta. The program should prompt the user to enter the dates and display the result."
   ]
  },
  {
   "cell_type": "code",
   "execution_count": 61,
   "id": "a9f08f84",
   "metadata": {},
   "outputs": [
    {
     "name": "stdout",
     "output_type": "stream",
     "text": [
      "Enter the start date (YYYY-MM-DD): 2023-12-01\n",
      "Enter the end date (YYYY-MM-DD): 2023-12-30\n"
     ]
    }
   ],
   "source": [
    "import pandas as pd\n",
    "import numpy as np\n",
    "from datetime import timedelta\n",
    "import logging\n",
    "logging.basicConfig(filename = \"Results.log\", level = logging.INFO)\n",
    "\n",
    "# Function to calculate the time difference\n",
    "def calculate_time_difference(start_date, end_date):\n",
    "    start_date = pd.to_datetime(start_date)\n",
    "    end_date = pd.to_datetime(end_date)\n",
    "    time_difference = end_date - start_date\n",
    "    return time_difference\n",
    "\n",
    "# Get input from the user\n",
    "start_date_input = input(\"Enter the start date (YYYY-MM-DD): \")\n",
    "end_date_input = input(\"Enter the end date (YYYY-MM-DD): \")\n",
    "\n",
    "# Calculate the time difference\n",
    "time_difference = calculate_time_difference(start_date_input, end_date_input)\n",
    "\n",
    "# Extract days, hours, and minutes\n",
    "days = time_difference.days\n",
    "hours = time_difference.seconds // 3600\n",
    "minutes = (time_difference.seconds % 3600) // 60\n",
    "\n",
    "# Display the result\n",
    "logging.info(f\"Time Difference: {days} days, {hours} hours, {minutes} minutes\")\n"
   ]
  },
  {
   "cell_type": "markdown",
   "id": "7fe0c33a",
   "metadata": {},
   "source": [
    "Q9. Write a Python program that reads a CSV file containing categorical data and converts a specified column to a categorical data type. The program should prompt the user to enter the file path, column name, and category order, and then display the sorted data."
   ]
  },
  {
   "cell_type": "code",
   "execution_count": 62,
   "id": "bd0bc35c",
   "metadata": {},
   "outputs": [
    {
     "name": "stdout",
     "output_type": "stream",
     "text": [
      "Enter path of CSV filehttps://raw.githubusercontent.com/datasciencedojo/datasets/master/titanic.csv\n",
      "Enter the column nameSurvived\n"
     ]
    }
   ],
   "source": [
    "import pandas as ps\n",
    "import logging\n",
    "logging.basicConfig(filename = \"Result.log\", level = logging.INFO)\n",
    "#https://raw.githubusercontent.com/datasciencedojo/datasets/master/titanic.csv\n",
    "\n",
    "def display():\n",
    "    path = input(\"Enter path of CSV file\")\n",
    "    df = pd.read_csv(path)\n",
    "    logging.info(df)\n",
    "    column_name = input(\"Enter the column name\")\n",
    "    g = df.groupby(column_name)\n",
    "    sorted_df = g.apply(lambda x: x.sort_values(column_name))  # Sort each group\n",
    "\n",
    "    logging.info(f\"Sorted Data:{sorted_df}\")\n",
    "\n",
    "display()"
   ]
  },
  {
   "cell_type": "markdown",
   "id": "8a85950e",
   "metadata": {},
   "source": [
    "Q10. Write a Python program that reads a CSV file containing sales data for different products and visualizes the data using a stacked bar chart to show the sales of each product category over time. The program should prompt the user to enter the file path and display the chart."
   ]
  },
  {
   "cell_type": "code",
   "execution_count": 63,
   "id": "56b4f4e3",
   "metadata": {},
   "outputs": [],
   "source": [
    "import pandas as pd\n",
    "import numpy as np\n",
    "import logging\n",
    "logging.basicConfig(filename = \"Result.log\", level = logging.INFO)\n",
    "\n",
    "# Create sample sales data\n",
    "np.random.seed(0)\n",
    "num_days = 30\n",
    "products = ['Product A', 'Product B', 'Product C']\n",
    "dates = pd.date_range(start='2023-01-01', periods=num_days, freq='D')\n",
    "sales_data = {\n",
    "    'Date': np.random.choice(dates, num_days),\n",
    "    'Product Category': np.random.choice(products, num_days),\n",
    "    'Sales': np.random.randint(100, 1000, num_days)\n",
    "}\n",
    "df = pd.DataFrame(sales_data)\n",
    "\n",
    "# Save the DataFrame to a CSV file\n",
    "df.to_csv('sales_data.csv', index=False)\n",
    "logging.info(\"Sample sales data saved to 'sales_data.csv'\")\n"
   ]
  },
  {
   "cell_type": "code",
   "execution_count": 68,
   "id": "fac3bbcf",
   "metadata": {},
   "outputs": [
    {
     "name": "stdout",
     "output_type": "stream",
     "text": [
      "Enter the file path of the CSV file containing sales data: C:\\Users\\getan\\Desktop\\PW_Assignment\\Week8_mltool_Pandas\\sales_data.csv\n"
     ]
    },
    {
     "data": {
      "text/plain": [
       "<Figure size 1000x600 with 0 Axes>"
      ]
     },
     "metadata": {},
     "output_type": "display_data"
    },
    {
     "data": {
      "image/png": "[encoded data removed]",
      "text/plain": [
       "<Figure size 640x480 with 1 Axes>"
      ]
     },
     "metadata": {},
     "output_type": "display_data"
    }
   ],
   "source": [
    "import pandas as pd\n",
    "import matplotlib.pyplot as plt\n",
    "import logging\n",
    "logging.basicConfig(filename = \"Result.log\", level = logging.INFO)\n",
    "#C:\\Users\\getan\\Desktop\\PW_Assignment\\Week8_mltool_Pandas\\sales_data.csv\n",
    "\n",
    "def visualize_sales():\n",
    "    # Get the file path from the user\n",
    "    path = input(\"Enter the file path of the CSV file containing sales data: \")\n",
    "    \n",
    "    # Read the CSV file into a DataFrame\n",
    "    df = pd.read_csv(path)\n",
    "    \n",
    "    # Convert the date column to datetime format\n",
    "    df['Date'] = pd.to_datetime(df['Date'])\n",
    "    \n",
    "    # Pivot the data to create a summary table\n",
    "    summary_table = df.pivot_table(index='Date', columns='Product Category', values='Sales', aggfunc='sum')\n",
    "    \n",
    "    # Create a stacked bar chart\n",
    "    plt.figure(figsize=(10, 6))\n",
    "    summary_table.plot(kind='bar', stacked=True)\n",
    "    plt.title('Sales of Product Categories Over Time')\n",
    "    plt.xlabel('Date')\n",
    "    plt.ylabel('Sales')\n",
    "    plt.xticks(rotation=45)\n",
    "    plt.legend(title='Product Category')\n",
    "    plt.tight_layout()\n",
    "    plt.show()\n",
    "\n",
    "# Call the function to execute the program\n",
    "visualize_sales()\n"
   ]
  },
  {
   "cell_type": "markdown",
   "id": "20c7dff9",
   "metadata": {},
   "source": [
    "Q11. You are given a CSV file containing student data that includes the student ID and their test score. Write a Python program that reads the CSV file, calculates the mean, median, and mode of the test scores, and displays the results in a table. \n",
    "\n",
    "The program should do the following\n",
    "\n",
    "->Prompt the user to enter the file path of the CSV file containing the student data \n",
    "\n",
    "->Read the CSV file into a Pandas DataFrame \n",
    "\n",
    "->Calculate the mean, median, and mode of the test scores using Pandas tools \n",
    "\n",
    "->Display the mean, median, and mode in a table. \n",
    "\n",
    "Assume the CSV file contains the following columns \n",
    "\n",
    "->Student ID: The ID of the student \n",
    "\n",
    "->Test Score: The score of the student's test. \n",
    "\n",
    "Example usage of the program: \n",
    "\n",
    "Enter the file path of the CSV file containing the student data: student_data.csv \n",
    "\n",
    "+-----------+--------+ \n",
    "\n",
    "| Statistic | Value  | \n",
    "\n",
    "+-----------+--------+ \n",
    "\n",
    "| Mean      | 79.6   |\n",
    "\n",
    "| Median    | 82     |\n",
    "\n",
    "| Mode      | 85, 90 | \n",
    "\n",
    "+-----------+--------+ \n",
    "\n",
    "Assume that the CSV file student_data.csv contains the following data:\n",
    "\n",
    "Student ID,Test Score \n",
    "\n",
    "1,85 \n",
    "\n",
    "2,90 \n",
    "\n",
    "3,80 \n",
    "\n",
    "4,75 \n",
    "\n",
    "5,85 \n",
    "\n",
    "6,82 \n",
    "\n",
    "7,78 \n",
    "\n",
    "8,85 \n",
    "\n",
    "9,90 \n",
    "\n",
    "10,85 \n",
    "\n",
    "The program should calculate the mean, median, and mode of the test scores and display the results in a table."
   ]
  },
  {
   "cell_type": "code",
   "execution_count": 44,
   "id": "5f0f542b",
   "metadata": {},
   "outputs": [],
   "source": [
    "import pandas as pd\n",
    "df = pd.DataFrame({'Student_ID' : range(1,11) , 'Test_Score':(85,90,80,75,85,82,78,85,90,85)})\n",
    "#df = pd.DataFrame('data')\n",
    "df.to_csv('data.csv', index=False)"
   ]
  },
  {
   "cell_type": "code",
   "execution_count": 1,
   "id": "ac0fa176",
   "metadata": {},
   "outputs": [
    {
     "name": "stdout",
     "output_type": "stream",
     "text": [
      "Enter the file path of the CSV file containing student data: C:\\Users\\getan\\Desktop\\PW_Assignment\\Week8_mltool_Pandas\\data.csv\n",
      " result :   Statistic Value\n",
      "0      Mean  83.5\n",
      "1    Median  85.0\n",
      "2      Mode    85\n"
     ]
    }
   ],
   "source": [
    "#C:\\Users\\getan\\Desktop\\PW_Assignment\\Week8_mltool_Pandas\\data.csv\n",
    "import pandas as pd\n",
    "import logging\n",
    "logging.basicConfig(filename = \"Result.log\", level = logging.INFO)\n",
    "def calculate_and_display_statistics():\n",
    "    # Get the file path from the user\n",
    "    path = input(\"Enter the file path of the CSV file containing student data: \")\n",
    "    \n",
    "    # Read the CSV file into a DataFrame\n",
    "    df = pd.read_csv(path)\n",
    "    \n",
    "    # Calculate mean, median, and mode\n",
    "    mean = df['Test_Score'].mean()\n",
    "    median = df['Test_Score'].median()\n",
    "    mode = df['Test_Score'].mode()\n",
    "    \n",
    "    # Display the results in a table\n",
    "    result_table = pd.DataFrame({\n",
    "        'Statistic': ['Mean', 'Median', 'Mode'],\n",
    "        'Value': [mean, median, ', '.join(map(str, mode))]\n",
    "    })\n",
    "    \n",
    "    #i am logging the outpt as well as printing it because the csv file is in my local system and it may make you difficult to check my output\n",
    "    logging.info(f\" result : {result_table}\")\n",
    "    print(f\" result : {result_table}\")\n",
    "# Call the function to execute the program\n",
    "calculate_and_display_statistics()\n"
   ]
  },
  {
   "cell_type": "code",
   "execution_count": null,
   "id": "713d8244",
   "metadata": {},
   "outputs": [],
   "source": []
  }
 ],
 "metadata": {
  "kernelspec": {
   "display_name": "Python 3 (ipykernel)",
   "language": "python",
   "name": "python3"
  },
  "language_info": {
   "codemirror_mode": {
    "name": "ipython",
    "version": 3
   },
   "file_extension": ".py",
   "mimetype": "text/x-python",
   "name": "python",
   "nbconvert_exporter": "python",
   "pygments_lexer": "ipython3",
   "version": "3.11.4"
  }
 },
 "nbformat": 4,
 "nbformat_minor": 5
}
